{
  "cells": [
    {
      "cell_type": "markdown",
      "metadata": {},
      "source": [
        "# Customer Segmentation Analysis\n\nNotebook auto-generated."
      ]
    },
    {
      "cell_type": "code",
      "execution_count": null,
      "metadata": {},
      "outputs": [],
      "source": [
        "import pandas as pd\nimport numpy as np\nfrom sklearn.preprocessing import StandardScaler\nfrom sklearn.cluster import KMeans\nfrom sklearn.decomposition import PCA\nfrom sklearn.metrics import silhouette_score\n\n# Load dataset\nDF = pd.read_csv('../data/marketing_data.csv')\nDF.head()"
      ]
    },
    {
      "cell_type": "code",
      "execution_count": null,
      "metadata": {},
      "outputs": [],
      "source": [
        "# Auto-selected features (from sample):\nfeatures = ['Income', 'Teenhome', 'Recency', 'MntWines']\nprint('Features:', features)\nDF_f = DF[features].fillna(0)\nscaler = StandardScaler()\nX = scaler.fit_transform(DF_f)"
      ]
    },
    {
      "cell_type": "code",
      "execution_count": null,
      "metadata": {},
      "outputs": [],
      "source": [
        "# Run clustering (example)\n# Use the code here to run Elbow Method, silhouette, and KMeans.\n# This notebook leaves computational steps to be executed interactively to avoid heavy processing by the generator.\npass"
      ]
    },
    {
      "cell_type": "markdown",
      "metadata": {},
      "source": [
        "## Visuals\nSaved preview scatter: images/preview_scatter.png (features: Income, Teenhome)"
      ]
    }
  ],
  "metadata": {
    "kernelspec": {
      "display_name": "Python 3",
      "language": "python",
      "name": "python3"
    },
    "language_info": {
      "name": "python",
      "version": "3.8"
    }
  },
  "nbformat": 4,
  "nbformat_minor": 5
}